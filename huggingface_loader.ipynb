{
 "cells": [
  {
   "cell_type": "code",
   "execution_count": 8,
   "id": "67efc5ed-c23d-47b9-91c3-8155e779ddb6",
   "metadata": {},
   "outputs": [],
   "source": [
    "from datasets import load_dataset\n",
    "from datasets import get_dataset_config_names, get_dataset_config_info\n",
    "\n",
    "import pandas as pd\n",
    "import json"
   ]
  },
  {
   "cell_type": "code",
   "execution_count": null,
   "id": "d9c869ec-1fb7-459c-ae89-c2fad789b8d9",
   "metadata": {},
   "outputs": [],
   "source": []
  },
  {
   "cell_type": "code",
   "execution_count": null,
   "id": "763af545-cccb-4068-98f3-153e37243624",
   "metadata": {},
   "outputs": [],
   "source": []
  },
  {
   "cell_type": "code",
   "execution_count": null,
   "id": "18079d77-3126-4390-bb62-8fa5e17c84e8",
   "metadata": {},
   "outputs": [],
   "source": []
  },
  {
   "cell_type": "markdown",
   "id": "22f22766-0809-443b-befe-8ecbef56d79c",
   "metadata": {},
   "source": [
    "# Explore the Features of the dataset"
   ]
  },
  {
   "cell_type": "code",
   "execution_count": 2,
   "id": "f2d533b3-9af6-4e0b-9597-df1092ae3d5f",
   "metadata": {},
   "outputs": [
    {
     "data": {
      "application/vnd.jupyter.widget-view+json": {
       "model_id": "4b4b1e31f509493b8f2a30ee7f800b6f",
       "version_major": 2,
       "version_minor": 0
      },
      "text/plain": [
       "Downloading readme:   0%|          | 0.00/5.42k [00:00<?, ?B/s]"
      ]
     },
     "metadata": {},
     "output_type": "display_data"
    },
    {
     "data": {
      "text/plain": [
       "['face_embeddings',\n",
       " 'representative_images',\n",
       " 'speaker_diarization',\n",
       " 'transcripts']"
      ]
     },
     "execution_count": 2,
     "metadata": {},
     "output_type": "execute_result"
    }
   ],
   "source": [
    "'''\n",
    "    >> Get all avalailable configs\n",
    "        * Configs are the set of folders in a way the dataset is organized into.\n",
    "'''\n",
    "all_configs = get_dataset_config_names(\"iDRAMALab/iDRAMA-rumble-2024\")\n",
    "all_configs"
   ]
  },
  {
   "cell_type": "code",
   "execution_count": 5,
   "id": "fa9ebfa8-77f8-4ae8-a0db-7caf3bf1d89b",
   "metadata": {},
   "outputs": [
    {
     "data": {
      "text/plain": [
       "DatasetInfo(description='', citation='', homepage='', license='', features={'image': Image(mode=None, decode=True, id=None), 'channel_name_lower': Value(dtype='string', id=None), 'v_id': Value(dtype='string', id=None), 'filename': Value(dtype='string', id=None)}, post_processed=None, supervised_keys=None, task_templates=None, builder_name='parquet', dataset_name='i_drama-rumble-2024', config_name='representative_images', version=0.0.0, splits={'train': SplitInfo(name='train', num_bytes=29786708764.246, num_examples=252387, shard_lengths=None, dataset_name=None)}, download_checksums=None, download_size=23599930820, post_processing_size=None, dataset_size=29786708764.246, size_in_bytes=None)"
      ]
     },
     "execution_count": 5,
     "metadata": {},
     "output_type": "execute_result"
    }
   ],
   "source": [
    "'''\n",
    "    >> Get information about a specific config\n",
    "        * Config info allows to explore the dataset, e.g., features of dataset, columns, size, number of data-points.\n",
    "'''\n",
    "config_info = get_dataset_config_info(\"iDRAMALab/iDRAMA-rumble-2024\", config_name=\"representative_images\")\n",
    "config_info"
   ]
  },
  {
   "cell_type": "code",
   "execution_count": 6,
   "id": "d7a848de-2c23-4a50-ac4a-7f1f741c4200",
   "metadata": {},
   "outputs": [
    {
     "data": {
      "text/plain": [
       "dict_keys(['image', 'channel_name_lower', 'v_id', 'filename'])"
      ]
     },
     "execution_count": 6,
     "metadata": {},
     "output_type": "execute_result"
    }
   ],
   "source": [
    "config_info.features.keys()"
   ]
  },
  {
   "cell_type": "code",
   "execution_count": null,
   "id": "3f043bac-3535-4ebb-a73e-9329513f77b0",
   "metadata": {},
   "outputs": [],
   "source": [
    "\n",
    "\n"
   ]
  },
  {
   "cell_type": "markdown",
   "id": "2411d61d-bf0b-43d9-a876-f0b01d8aa9fc",
   "metadata": {},
   "source": [
    "# Load Dataset through Huggingface APIs\n",
    "* HF dataset documentation: [Load from HF-Hub](https://huggingface.co/docs/datasets/en/load_hub)"
   ]
  },
  {
   "cell_type": "code",
   "execution_count": null,
   "id": "f84a1fe5-7ab4-4119-835a-ac8a187b10f5",
   "metadata": {},
   "outputs": [],
   "source": [
    "# Download & Load complete dataset\n",
    "# dataset = load_dataset(\"iDRAMALab/iDRAMA-rumble-2024\")\n",
    "\n",
    "# Load dataset with specific config\n",
    "dataset = load_dataset(\"iDRAMALab/iDRAMA-rumble-2024\", name=\"transcripts\")"
   ]
  },
  {
   "cell_type": "code",
   "execution_count": 4,
   "id": "f9f3283c-4b49-4018-9d61-be80244a2622",
   "metadata": {},
   "outputs": [
    {
     "data": {
      "text/html": [
       "<div>\n",
       "<style scoped>\n",
       "    .dataframe tbody tr th:only-of-type {\n",
       "        vertical-align: middle;\n",
       "    }\n",
       "\n",
       "    .dataframe tbody tr th {\n",
       "        vertical-align: top;\n",
       "    }\n",
       "\n",
       "    .dataframe thead th {\n",
       "        text-align: right;\n",
       "    }\n",
       "</style>\n",
       "<table border=\"1\" class=\"dataframe\">\n",
       "  <thead>\n",
       "    <tr style=\"text-align: right;\">\n",
       "      <th></th>\n",
       "      <th>v_id</th>\n",
       "      <th>transcription</th>\n",
       "      <th>named_entities</th>\n",
       "    </tr>\n",
       "  </thead>\n",
       "  <tbody>\n",
       "    <tr>\n",
       "      <th>0</th>\n",
       "      <td>v1006yj</td>\n",
       "      <td>[{\"id\": 1, \"seek\": 2550, \"start\": 0.0, \"end\": ...</td>\n",
       "      <td>[[\"Biden\", \"PERSON\"], [\"Russia\", \"GPE\"], [\"Rus...</td>\n",
       "    </tr>\n",
       "    <tr>\n",
       "      <th>1</th>\n",
       "      <td>v100aft</td>\n",
       "      <td>[{\"id\": 1, \"seek\": 2942, \"start\": 0.69, \"end\":...</td>\n",
       "      <td>[[\"US\", \"GPE\"], [\"Russia\", \"GPE\"], [\"Putin\", \"...</td>\n",
       "    </tr>\n",
       "    <tr>\n",
       "      <th>2</th>\n",
       "      <td>v101u17</td>\n",
       "      <td>[{\"id\": 1, \"seek\": 3000, \"start\": 22.53, \"end\"...</td>\n",
       "      <td>[[\"Lawsplaining the Interwebs\", \"WORK_OF_ART\"]...</td>\n",
       "    </tr>\n",
       "    <tr>\n",
       "      <th>3</th>\n",
       "      <td>v10245a</td>\n",
       "      <td>[{\"id\": 1, \"seek\": 2698, \"start\": 0.42, \"end\":...</td>\n",
       "      <td>[[\"one\", \"CARDINAL\"], [\"the week\", \"DATE\"], [\"...</td>\n",
       "    </tr>\n",
       "    <tr>\n",
       "      <th>4</th>\n",
       "      <td>v102di1</td>\n",
       "      <td>[{\"id\": 1, \"seek\": 2650, \"start\": 4.93, \"end\":...</td>\n",
       "      <td>[[\"Bridget Phetasy\", \"PERSON\"], [\"Bridget Phet...</td>\n",
       "    </tr>\n",
       "    <tr>\n",
       "      <th>...</th>\n",
       "      <td>...</td>\n",
       "      <td>...</td>\n",
       "      <td>...</td>\n",
       "    </tr>\n",
       "    <tr>\n",
       "      <th>6730</th>\n",
       "      <td>vzz9ab</td>\n",
       "      <td>[{\"id\": 1, \"seek\": 2878, \"start\": 0.26, \"end\":...</td>\n",
       "      <td>[[\"Oklahoma\", \"GPE\"], [\"Texas\", \"GPE\"], [\"Okla...</td>\n",
       "    </tr>\n",
       "    <tr>\n",
       "      <th>6731</th>\n",
       "      <td>vzzgm4</td>\n",
       "      <td>[{\"id\": 1, \"seek\": 2926, \"start\": 0.0, \"end\": ...</td>\n",
       "      <td>[[\"florida\", \"GPE\"], [\"the democrat party\", \"O...</td>\n",
       "    </tr>\n",
       "    <tr>\n",
       "      <th>6732</th>\n",
       "      <td>vzzk8h</td>\n",
       "      <td>[{\"id\": 1, \"seek\": 2936, \"start\": 0.0, \"end\": ...</td>\n",
       "      <td>[[\"Today\", \"DATE\"], [\"the Matt Wall Show\", \"WO...</td>\n",
       "    </tr>\n",
       "    <tr>\n",
       "      <th>6733</th>\n",
       "      <td>v16uipm</td>\n",
       "      <td>[{\"id\": 1, \"seek\": 2862, \"start\": 0.0, \"end\": ...</td>\n",
       "      <td>[[\"Texas\", \"GPE\"], [\"Uvalde\", \"PRODUCT\"], [\"th...</td>\n",
       "    </tr>\n",
       "    <tr>\n",
       "      <th>6734</th>\n",
       "      <td>v1a77h1</td>\n",
       "      <td>[{\"id\": 1, \"seek\": 2844, \"start\": 0.0, \"end\": ...</td>\n",
       "      <td>[[\"U.S.\", \"GPE\"], [\"Triumph\", \"ORG\"], [\"CIA\", ...</td>\n",
       "    </tr>\n",
       "  </tbody>\n",
       "</table>\n",
       "<p>6735 rows × 3 columns</p>\n",
       "</div>"
      ],
      "text/plain": [
       "         v_id                                      transcription  \\\n",
       "0     v1006yj  [{\"id\": 1, \"seek\": 2550, \"start\": 0.0, \"end\": ...   \n",
       "1     v100aft  [{\"id\": 1, \"seek\": 2942, \"start\": 0.69, \"end\":...   \n",
       "2     v101u17  [{\"id\": 1, \"seek\": 3000, \"start\": 22.53, \"end\"...   \n",
       "3     v10245a  [{\"id\": 1, \"seek\": 2698, \"start\": 0.42, \"end\":...   \n",
       "4     v102di1  [{\"id\": 1, \"seek\": 2650, \"start\": 4.93, \"end\":...   \n",
       "...       ...                                                ...   \n",
       "6730   vzz9ab  [{\"id\": 1, \"seek\": 2878, \"start\": 0.26, \"end\":...   \n",
       "6731   vzzgm4  [{\"id\": 1, \"seek\": 2926, \"start\": 0.0, \"end\": ...   \n",
       "6732   vzzk8h  [{\"id\": 1, \"seek\": 2936, \"start\": 0.0, \"end\": ...   \n",
       "6733  v16uipm  [{\"id\": 1, \"seek\": 2862, \"start\": 0.0, \"end\": ...   \n",
       "6734  v1a77h1  [{\"id\": 1, \"seek\": 2844, \"start\": 0.0, \"end\": ...   \n",
       "\n",
       "                                         named_entities  \n",
       "0     [[\"Biden\", \"PERSON\"], [\"Russia\", \"GPE\"], [\"Rus...  \n",
       "1     [[\"US\", \"GPE\"], [\"Russia\", \"GPE\"], [\"Putin\", \"...  \n",
       "2     [[\"Lawsplaining the Interwebs\", \"WORK_OF_ART\"]...  \n",
       "3     [[\"one\", \"CARDINAL\"], [\"the week\", \"DATE\"], [\"...  \n",
       "4     [[\"Bridget Phetasy\", \"PERSON\"], [\"Bridget Phet...  \n",
       "...                                                 ...  \n",
       "6730  [[\"Oklahoma\", \"GPE\"], [\"Texas\", \"GPE\"], [\"Okla...  \n",
       "6731  [[\"florida\", \"GPE\"], [\"the democrat party\", \"O...  \n",
       "6732  [[\"Today\", \"DATE\"], [\"the Matt Wall Show\", \"WO...  \n",
       "6733  [[\"Texas\", \"GPE\"], [\"Uvalde\", \"PRODUCT\"], [\"th...  \n",
       "6734  [[\"U.S.\", \"GPE\"], [\"Triumph\", \"ORG\"], [\"CIA\", ...  \n",
       "\n",
       "[6735 rows x 3 columns]"
      ]
     },
     "execution_count": 4,
     "metadata": {},
     "output_type": "execute_result"
    }
   ],
   "source": [
    "# Convert dataset to pandas df\n",
    "pd_df = pd.DataFrame(dataset[\"train\"])\n",
    "pd_df"
   ]
  },
  {
   "cell_type": "code",
   "execution_count": null,
   "id": "0f75227e-4634-4d24-acc5-8bb3089d6184",
   "metadata": {
    "scrolled": true,
    "tags": []
   },
   "outputs": [],
   "source": [
    "# Convert transcript to JSON\n",
    "json.loads(pd_df.transcription.iloc[0])"
   ]
  },
  {
   "cell_type": "code",
   "execution_count": null,
   "id": "de290526-5ba7-4e2e-98db-65be68f06e67",
   "metadata": {},
   "outputs": [],
   "source": []
  },
  {
   "cell_type": "code",
   "execution_count": null,
   "id": "37cbdc57-63a2-47bf-bb55-9cb4772234cd",
   "metadata": {},
   "outputs": [],
   "source": []
  },
  {
   "cell_type": "code",
   "execution_count": null,
   "id": "fdc78dcf-0744-4acc-a838-007b466c0b5f",
   "metadata": {},
   "outputs": [],
   "source": []
  },
  {
   "cell_type": "markdown",
   "id": "604b9aef-76d4-41fa-8699-12162dd38d3b",
   "metadata": {},
   "source": [
    "## Stream the Dataset\n",
    "\n",
    "* HF dataset streaming: [Stream from HF-Hub](https://huggingface.co/docs/datasets/en/stream)"
   ]
  },
  {
   "cell_type": "code",
   "execution_count": 5,
   "id": "ca04db24-171f-436e-9673-45773d2ffe99",
   "metadata": {},
   "outputs": [],
   "source": [
    "# Stream dataset as iterator \n",
    "dataset = load_dataset(\"iDRAMALab/iDRAMA-rumble-2024\", name=\"transcripts\", streaming=True)"
   ]
  },
  {
   "cell_type": "code",
   "execution_count": null,
   "id": "60abd362-2009-4b2e-8eaa-d9fd34dc78ec",
   "metadata": {},
   "outputs": [],
   "source": [
    "# Iterator to iter over dataset samples\n",
    "for row in dataset[\"train\"]:\n",
    "    print(row)\n",
    "    break"
   ]
  },
  {
   "cell_type": "code",
   "execution_count": null,
   "id": "e37395b7-c6d1-4c00-8347-fc46c34fb680",
   "metadata": {},
   "outputs": [],
   "source": []
  },
  {
   "cell_type": "markdown",
   "id": "e1f747b9-6c85-471f-97ba-434650ca5cdf",
   "metadata": {},
   "source": [
    "#### Stream with selected columns\n",
    "\n",
    "* When you stream the dataset, you can select columns to build your dataset."
   ]
  },
  {
   "cell_type": "code",
   "execution_count": null,
   "id": "83456c01-b131-480c-a3f0-d5813cd075ae",
   "metadata": {},
   "outputs": [],
   "source": [
    "# Stream dataset as iterator \n",
    "dataset = load_dataset(\"iDRAMALab/iDRAMA-rumble-2024\", \n",
    "                       name=\"transcripts\", \n",
    "                       columns=[\"v_id\", \"transcription\"], # Only get the posts\n",
    "                       streaming=True)\n",
    "\n",
    "# Simply, iterate over the streamed points\n",
    "for val in dataset[\"train\"]:\n",
    "    print(val)\n",
    "    break\n",
    "    \n",
    "# Complete dataset for only selected columns\n",
    "pd_df = pd.DataFrame([val for val in dataset[\"train\"]])\n",
    "pd_df"
   ]
  },
  {
   "cell_type": "code",
   "execution_count": null,
   "id": "c431334b-6f29-46f6-92e2-d3d76ff23adb",
   "metadata": {},
   "outputs": [],
   "source": []
  },
  {
   "cell_type": "code",
   "execution_count": null,
   "id": "d905b750-3874-40dd-b068-29cd5a27a12c",
   "metadata": {},
   "outputs": [],
   "source": []
  },
  {
   "cell_type": "markdown",
   "id": "5ff1e2b2-fe8e-49c0-866d-7efb10e8cbb6",
   "metadata": {},
   "source": [
    "# Save the data in local instead to HF-dataset format\n",
    "    * We recommend to save the data in standard formats like CSV or JSON instead pickle objects.\n",
    "    * However, as the dataset is large, compressed `parquet` format is recommended."
   ]
  },
  {
   "cell_type": "code",
   "execution_count": null,
   "id": "51762a99-0852-4364-b338-69f7b2add1bc",
   "metadata": {},
   "outputs": [],
   "source": [
    "'''\n",
    "Assuming, you have loaded dataset and casted to pandas -- `pd_df`\n",
    "'''\n",
    "# Save as standard serialized format\n",
    "pd_df.to_json(\"filename.ndjson\", orient=\"records\", lines=True)\n",
    "\n",
    "# Save as compressed parquet\n",
    "pd_df.to_parquet(\"filename.parquet\", compression=\"zstd\")"
   ]
  },
  {
   "cell_type": "code",
   "execution_count": null,
   "id": "d3c9e080-b044-452e-9e74-b16a5797f37d",
   "metadata": {},
   "outputs": [],
   "source": []
  }
 ],
 "metadata": {
  "kernelspec": {
   "display_name": "Python 3 (ipykernel)",
   "language": "python",
   "name": "python3"
  },
  "language_info": {
   "codemirror_mode": {
    "name": "ipython",
    "version": 3
   },
   "file_extension": ".py",
   "mimetype": "text/x-python",
   "name": "python",
   "nbconvert_exporter": "python",
   "pygments_lexer": "ipython3",
   "version": "3.9.10"
  }
 },
 "nbformat": 4,
 "nbformat_minor": 5
}
